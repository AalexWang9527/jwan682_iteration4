{
 "cells": [
  {
   "cell_type": "code",
   "execution_count": 1,
   "metadata": {},
   "outputs": [],
   "source": [
    "import findspark\n",
    "findspark.init('/home/ubuntu/spark-2.1.1-bin-hadoop2.7')\n",
    "import pyspark\n",
    "from pyspark.sql import SparkSession\n",
    "spark = SparkSession.builder.appName('linear_regression_adv').getOrCreate()\n",
    "\n",
    "from pyspark.ml.regression import LinearRegression"
   ]
  },
  {
   "cell_type": "code",
   "execution_count": 2,
   "metadata": {},
   "outputs": [],
   "source": [
    "df = spark.read.csv(\"aoti_processed_file.csv\",inferSchema=True,header=True)"
   ]
  },
  {
   "cell_type": "code",
   "execution_count": 3,
   "metadata": {},
   "outputs": [
    {
     "name": "stdout",
     "output_type": "stream",
     "text": [
      "root\n",
      " |-- No: integer (nullable = true)\n",
      " |-- year: integer (nullable = true)\n",
      " |-- PM2.5: double (nullable = true)\n",
      " |-- PM10: double (nullable = true)\n",
      " |-- SO2: double (nullable = true)\n",
      " |-- NO2: double (nullable = true)\n",
      " |-- CO: double (nullable = true)\n",
      " |-- O3: double (nullable = true)\n",
      " |-- PM2.5_lv: double (nullable = true)\n",
      " |-- PM10_lv: double (nullable = true)\n",
      " |-- SO2_lv: double (nullable = true)\n",
      " |-- NO2_lv: double (nullable = true)\n",
      " |-- CO_lv: double (nullable = true)\n",
      " |-- O3_lv: double (nullable = true)\n",
      "\n"
     ]
    }
   ],
   "source": [
    "df.printSchema()"
   ]
  },
  {
   "cell_type": "code",
   "execution_count": 4,
   "metadata": {},
   "outputs": [
    {
     "name": "stdout",
     "output_type": "stream",
     "text": [
      "root\n",
      " |-- No: integer (nullable = true)\n",
      " |-- year: integer (nullable = true)\n",
      " |-- PM25: double (nullable = true)\n",
      " |-- PM10: double (nullable = true)\n",
      " |-- SO2: double (nullable = true)\n",
      " |-- NO2: double (nullable = true)\n",
      " |-- CO: double (nullable = true)\n",
      " |-- O3: double (nullable = true)\n",
      " |-- PM2.5_lv: double (nullable = true)\n",
      " |-- PM10_lv: double (nullable = true)\n",
      " |-- SO2_lv: double (nullable = true)\n",
      " |-- NO2_lv: double (nullable = true)\n",
      " |-- CO_lv: double (nullable = true)\n",
      " |-- O3_lv: double (nullable = true)\n",
      "\n",
      "+-------+-----------------+\n",
      "|summary|             PM25|\n",
      "+-------+-----------------+\n",
      "|  count|            28894|\n",
      "|   mean|54.04170696773637|\n",
      "| stddev|50.19011249088544|\n",
      "|    min|              3.0|\n",
      "|    max|            252.0|\n",
      "+-------+-----------------+\n",
      "\n"
     ]
    }
   ],
   "source": [
    "df = df.withColumnRenamed(\"PM2.5\",\"PM25\")\n",
    "df.printSchema()\n",
    "PM25 = df.select(\"PM25\")\n",
    "PM25.describe().show()"
   ]
  },
  {
   "cell_type": "code",
   "execution_count": 5,
   "metadata": {},
   "outputs": [],
   "source": [
    "from pyspark.ml.linalg import Vectors\n",
    "from pyspark.ml.feature import VectorAssembler"
   ]
  },
  {
   "cell_type": "code",
   "execution_count": 6,
   "metadata": {},
   "outputs": [
    {
     "name": "stdout",
     "output_type": "stream",
     "text": [
      "root\n",
      " |-- No: integer (nullable = true)\n",
      " |-- year: integer (nullable = true)\n",
      " |-- PM25: double (nullable = true)\n",
      " |-- PM10: double (nullable = true)\n",
      " |-- SO2: double (nullable = true)\n",
      " |-- NO2: double (nullable = true)\n",
      " |-- CO: double (nullable = true)\n",
      " |-- O3: double (nullable = true)\n",
      " |-- PM2.5_lv: double (nullable = true)\n",
      " |-- PM10_lv: double (nullable = true)\n",
      " |-- SO2_lv: double (nullable = true)\n",
      " |-- NO2_lv: double (nullable = true)\n",
      " |-- CO_lv: double (nullable = true)\n",
      " |-- O3_lv: double (nullable = true)\n",
      " |-- features: vector (nullable = true)\n",
      "\n"
     ]
    }
   ],
   "source": [
    "assembler = VectorAssembler(\n",
    "    inputCols=[\"PM10\",\"SO2\",\"NO2\",\"CO\",\"O3\"],\n",
    "    outputCol=\"features\")\n",
    "output = assembler.transform(df)\n",
    "output.printSchema()"
   ]
  },
  {
   "cell_type": "code",
   "execution_count": 7,
   "metadata": {},
   "outputs": [
    {
     "name": "stdout",
     "output_type": "stream",
     "text": [
      "+--------------------+----+\n",
      "|            features|PM25|\n",
      "+--------------------+----+\n",
      "|[4.0,4.0,7.0,300....| 4.0|\n",
      "|[8.0,4.0,7.0,300....| 8.0|\n",
      "|[7.0,5.0,10.0,300...| 7.0|\n",
      "|[6.0,11.0,11.0,30...| 6.0|\n",
      "|[3.0,12.0,12.0,30...| 3.0|\n",
      "|[5.0,18.0,18.0,40...| 5.0|\n",
      "|[3.0,18.0,32.0,50...| 3.0|\n",
      "|[6.0,19.0,41.0,50...| 3.0|\n",
      "|[6.0,16.0,43.0,50...| 3.0|\n",
      "|[8.0,12.0,28.0,40...| 3.0|\n",
      "|[6.0,9.0,12.0,400...| 3.0|\n",
      "|[6.0,9.0,14.0,400...| 3.0|\n",
      "|[6.0,7.0,13.0,300...| 3.0|\n",
      "|[6.0,7.0,12.0,400...| 3.0|\n",
      "|[9.0,7.0,11.0,400...| 6.0|\n",
      "|[15.0,7.0,14.0,40...| 8.0|\n",
      "|[19.0,9.0,13.0,40...| 9.0|\n",
      "|[23.0,11.0,15.0,4...|10.0|\n",
      "|[20.0,8.0,20.0,50...|11.0|\n",
      "|[14.0,12.0,30.0,5...| 8.0|\n",
      "+--------------------+----+\n",
      "only showing top 20 rows\n",
      "\n"
     ]
    }
   ],
   "source": [
    "final_data = output.select(\"features\",\"PM25\")\n",
    "final_data.show()"
   ]
  },
  {
   "cell_type": "code",
   "execution_count": 8,
   "metadata": {},
   "outputs": [
    {
     "name": "stdout",
     "output_type": "stream",
     "text": [
      "Coefficients: [0.48711049881974533,-0.36115157065540504,0.10968736026230073,0.033537979649147266,0.1176260387646341]\n",
      "\n",
      "\n",
      "Intercept:-20.337780961159506\n"
     ]
    }
   ],
   "source": [
    "lr = lr = LinearRegression(labelCol=\"PM25\")\n",
    "# Fit the model to the data.\n",
    "lrModel = lr.fit(final_data)\n",
    "print(\"Coefficients: {}\".format(str(lrModel.coefficients)))\n",
    "print('\\n')\n",
    "print(\"Intercept:{}\".format(str(lrModel.intercept)))"
   ]
  },
  {
   "cell_type": "code",
   "execution_count": 9,
   "metadata": {},
   "outputs": [
    {
     "name": "stdout",
     "output_type": "stream",
     "text": [
      "+--------------------+\n",
      "|           residuals|\n",
      "+--------------------+\n",
      "|   3.947534847045034|\n",
      "|   5.999092851766054|\n",
      "|   5.988796995512839|\n",
      "|   7.650755596767347|\n",
      "|   6.363551303619687|\n",
      "|     6.2500738360119|\n",
      "|   2.216890445298599|\n",
      "|  0.9529065484865029|\n",
      "| -0.5851749615335855|\n",
      "|  0.3483415843496651|\n",
      "| 0.46496713027950776|\n",
      "|  0.3632184485195431|\n",
      "|   2.751522516091857|\n",
      "| -0.7278401660898375|\n",
      "|  0.8028896589485939|\n",
      "|-0.33120937599214884|\n",
      "| -0.4476608696980158|\n",
      "| -0.6579223666615199|\n",
      "| -2.7117761933361955|\n",
      "| -1.2651201327727684|\n",
      "+--------------------+\n",
      "only showing top 20 rows\n",
      "\n",
      "RMSE: 23.091530562941383\n",
      "r2: 0.7883179012780994\n"
     ]
    }
   ],
   "source": [
    "# Summarize the model over the training set and print out some metrics\n",
    "trainingSummary = lrModel.summary\n",
    "trainingSummary.residuals.show()\n",
    "\n",
    "# Print Root Mean Squared Error. \n",
    "print(\"RMSE: {}\".format(trainingSummary.rootMeanSquaredError))\n",
    "\n",
    "# Print R-Squared.\n",
    "print(\"r2: {}\".format(trainingSummary.r2))"
   ]
  },
  {
   "cell_type": "code",
   "execution_count": 10,
   "metadata": {},
   "outputs": [
    {
     "name": "stdout",
     "output_type": "stream",
     "text": [
      "aggregationDepth: suggested depth for treeAggregate (>= 2). (default: 2)\n",
      "elasticNetParam: the ElasticNet mixing parameter, in range [0, 1]. For alpha = 0, the penalty is an L2 penalty. For alpha = 1, it is an L1 penalty. (default: 0.0)\n",
      "featuresCol: features column name. (default: features)\n",
      "fitIntercept: whether to fit an intercept term. (default: True)\n",
      "labelCol: label column name. (default: label, current: PM25)\n",
      "maxIter: max number of iterations (>= 0). (default: 100)\n",
      "predictionCol: prediction column name. (default: prediction)\n",
      "regParam: regularization parameter (>= 0). (default: 0.0)\n",
      "solver: the solver algorithm for optimization. If this is not set or empty, default value is 'auto'. (default: auto)\n",
      "standardization: whether to standardize the training features before fitting the model. (default: True)\n",
      "tol: the convergence tolerance for iterative algorithms (>= 0). (default: 1e-06)\n",
      "weightCol: weight column name. If this is not set or empty, we treat all instance weights as 1.0. (undefined)\n"
     ]
    }
   ],
   "source": [
    "print(lr.explainParams())"
   ]
  },
  {
   "cell_type": "code",
   "execution_count": 11,
   "metadata": {},
   "outputs": [
    {
     "name": "stdout",
     "output_type": "stream",
     "text": [
      "RMSE: 23.91406912213034\n",
      "r2: 0.8948641888223404\n"
     ]
    }
   ],
   "source": [
    "lr = LinearRegression(labelCol='PM25',fitIntercept=False,regParam=0)\n",
    "lrModel = lr.fit(final_data)\n",
    "trainingSummary = lrModel.summary\n",
    "# Print Root Mean Squared Error. \n",
    "print(\"RMSE: {}\".format(trainingSummary.rootMeanSquaredError))\n",
    "\n",
    "# Print R-Squared.\n",
    "print(\"r2: {}\".format(trainingSummary.r2))"
   ]
  },
  {
   "cell_type": "code",
   "execution_count": 12,
   "metadata": {},
   "outputs": [
    {
     "name": "stdout",
     "output_type": "stream",
     "text": [
      "+-------+-----------------+\n",
      "|summary|             PM25|\n",
      "+-------+-----------------+\n",
      "|  count|            23195|\n",
      "|   mean| 53.8937379445469|\n",
      "| stddev|50.14229394632353|\n",
      "|    min|              3.0|\n",
      "|    max|            252.0|\n",
      "+-------+-----------------+\n",
      "\n",
      "+-------+------------------+\n",
      "|summary|              PM25|\n",
      "+-------+------------------+\n",
      "|  count|              5699|\n",
      "|   mean|54.643942709600076|\n",
      "| stddev| 50.38419484977075|\n",
      "|    min|               3.0|\n",
      "|    max|             252.0|\n",
      "+-------+------------------+\n",
      "\n"
     ]
    }
   ],
   "source": [
    "#Set training set and testing set\n",
    "train_data,test_data = final_data.randomSplit([0.8,0.2])\n",
    "\n",
    "train_data.describe().show()\n",
    "\n",
    "test_data.describe().show()"
   ]
  },
  {
   "cell_type": "code",
   "execution_count": 13,
   "metadata": {},
   "outputs": [
    {
     "name": "stdout",
     "output_type": "stream",
     "text": [
      "Coefficients: [0.5229084713543641,-0.4295762479741102,-0.09354202832905938,0.029997610291327793,-0.016776246942747007]\n",
      "\n",
      "\n",
      "Intercept:0.0\n"
     ]
    }
   ],
   "source": [
    "#Set fitIntercept as False\n",
    "lr = LinearRegression(labelCol='PM25',fitIntercept=False)\n",
    "\n",
    "# Fit the model to the data.\n",
    "lrModel = lr.fit(train_data)\n",
    "print(\"Coefficients: {}\".format(str(lrModel.coefficients)))\n",
    "print('\\n')\n",
    "print(\"Intercept:{}\".format(str(lrModel.intercept)))"
   ]
  },
  {
   "cell_type": "code",
   "execution_count": 14,
   "metadata": {},
   "outputs": [
    {
     "name": "stdout",
     "output_type": "stream",
     "text": [
      "+-------------------+\n",
      "|          residuals|\n",
      "+-------------------+\n",
      "| 21.294050822930405|\n",
      "|-4.1319088621213105|\n",
      "|-3.8797445904438224|\n",
      "| 10.241724686627023|\n",
      "|  8.217531320461472|\n",
      "|  13.90000522017873|\n",
      "|-3.3388147199265337|\n",
      "| -3.095649974045994|\n",
      "| -7.155599837217949|\n",
      "|-10.119263032177331|\n",
      "|-3.0432141633926815|\n",
      "| -2.556703002053018|\n",
      "| -2.932895888120875|\n",
      "| 0.5152536954265519|\n",
      "| 1.0212747289317754|\n",
      "| 0.5658013378956941|\n",
      "| -2.937247099519496|\n",
      "| -5.189192469556083|\n",
      "|-2.5412120586847067|\n",
      "|  -5.13400323653911|\n",
      "+-------------------+\n",
      "only showing top 20 rows\n",
      "\n"
     ]
    }
   ],
   "source": [
    "#Evaluate the model against the testing data\n",
    "test_results = lrModel.evaluate(test_data)\n",
    "\n",
    "#Show the difference between predicted value and testing data\n",
    "test_results.residuals.show()"
   ]
  },
  {
   "cell_type": "code",
   "execution_count": 15,
   "metadata": {},
   "outputs": [
    {
     "name": "stdout",
     "output_type": "stream",
     "text": [
      "RSME: 24.482794561799658\n",
      "R2: 0.8914919771243914\n"
     ]
    }
   ],
   "source": [
    "# Print Root Mean Squared Error. \n",
    "print(\"RSME: {}\".format(test_results.rootMeanSquaredError))\n",
    "\n",
    "# Print R-Squared.\n",
    "print(\"R2: {}\".format(test_results.r2))"
   ]
  }
 ],
 "metadata": {
  "kernelspec": {
   "display_name": "Python 3",
   "language": "python",
   "name": "python3"
  },
  "language_info": {
   "codemirror_mode": {
    "name": "ipython",
    "version": 3
   },
   "file_extension": ".py",
   "mimetype": "text/x-python",
   "name": "python",
   "nbconvert_exporter": "python",
   "pygments_lexer": "ipython3",
   "version": "3.5.2"
  }
 },
 "nbformat": 4,
 "nbformat_minor": 2
}
